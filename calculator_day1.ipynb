{
 "cells": [
  {
   "cell_type": "code",
   "execution_count": 1,
   "id": "102def26-7f84-4c8b-b26c-f4bab35045f6",
   "metadata": {},
   "outputs": [
    {
     "name": "stdin",
     "output_type": "stream",
     "text": [
      "Enter your name:  Mahnoor\n",
      "Enter the first number:  5\n",
      "Enter the second number:  2\n"
     ]
    },
    {
     "name": "stdout",
     "output_type": "stream",
     "text": [
      "\n",
      "Hi Mahnoor! You entered: 5.0 and 2.0\n",
      "Sum: 7.00\n",
      "Difference: 3.00\n",
      "Product: 10.00\n",
      "Division: 2.50\n"
     ]
    }
   ],
   "source": [
    "# calculator_day1.py\n",
    "\n",
    "def get_valid_float(prompt):\n",
    "    \"\"\"Keep prompting user until a valid float is entered.\"\"\"\n",
    "    while True:\n",
    "        try:\n",
    "            value = float(input(prompt))\n",
    "            return value\n",
    "        except ValueError:\n",
    "            print(\"Invalid input. Please enter a valid number.\")\n",
    "\n",
    "# Step 1: Ask for user name\n",
    "name = input(\"Enter your name: \")\n",
    "\n",
    "# Step 2 & 3: Get and validate numbers\n",
    "num1 = get_valid_float(\"Enter the first number: \")\n",
    "num2 = get_valid_float(\"Enter the second number: \")\n",
    "\n",
    "# Step 4: Perform operations\n",
    "sum_result = num1 + num2\n",
    "diff_result = num1 - num2\n",
    "prod_result = num1 * num2\n",
    "\n",
    "try:\n",
    "    div_result = num1 / num2\n",
    "    division_error = False\n",
    "except ZeroDivisionError:\n",
    "    div_result = None\n",
    "    division_error = True\n",
    "\n",
    "# Step 5: Output results\n",
    "print(f\"\\nHi {name}! You entered: {num1} and {num2}\")\n",
    "print(f\"Sum: {sum_result:.2f}\")\n",
    "print(f\"Difference: {diff_result:.2f}\")\n",
    "print(f\"Product: {prod_result:.2f}\")\n",
    "if division_error:\n",
    "    print(\"Division: Cannot divide by zero!\")\n",
    "else:\n",
    "    print(f\"Division: {div_result:.2f}\")"
   ]
  },
  {
   "cell_type": "code",
   "execution_count": null,
   "id": "624f975f-925f-4c79-9cd4-9a95acf19ef7",
   "metadata": {},
   "outputs": [],
   "source": []
  }
 ],
 "metadata": {
  "kernelspec": {
   "display_name": "Python 3 (ipykernel)",
   "language": "python",
   "name": "python3"
  },
  "language_info": {
   "codemirror_mode": {
    "name": "ipython",
    "version": 3
   },
   "file_extension": ".py",
   "mimetype": "text/x-python",
   "name": "python",
   "nbconvert_exporter": "python",
   "pygments_lexer": "ipython3",
   "version": "3.12.7"
  }
 },
 "nbformat": 4,
 "nbformat_minor": 5
}
